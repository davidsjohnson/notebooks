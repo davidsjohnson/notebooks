{
 "cells": [
  {
   "cell_type": "markdown",
   "id": "913c027c-a358-417a-9e1a-2601969e3caf",
   "metadata": {},
   "source": [
    "# Python Tips and Tricks"
   ]
  },
  {
   "cell_type": "code",
   "execution_count": 1,
   "id": "d5ad80e5-8c37-4ef1-b284-3751ffecd3d0",
   "metadata": {},
   "outputs": [],
   "source": [
    "%load_ext autoreload\n",
    "%autoreload 2\n",
    "\n",
    "import sys\n",
    "sys.path.append('../')"
   ]
  },
  {
   "cell_type": "code",
   "execution_count": 36,
   "id": "90ce021d-8002-4078-aa54-9edff1459871",
   "metadata": {},
   "outputs": [],
   "source": [
    "from pprint import pprint"
   ]
  },
  {
   "cell_type": "markdown",
   "id": "5fab914d-86ba-49c7-8fdf-035cd00fac74",
   "metadata": {},
   "source": [
    "## Quick Ones"
   ]
  },
  {
   "cell_type": "markdown",
   "id": "57a843fa-88f9-4081-9d94-47133886c505",
   "metadata": {},
   "source": [
    "### F Strings\n",
    "Added to Python in version 3.6.  F strings help simply string building with variables."
   ]
  },
  {
   "cell_type": "code",
   "execution_count": 41,
   "id": "12fda4a7-b911-4f96-bbc6-5aca4c88b611",
   "metadata": {},
   "outputs": [
    {
     "name": "stdout",
     "output_type": "stream",
     "text": [
      "John's age=21 and he is 2.12 meters tall.\n",
      "John's age=21 and he is 2.12 meters tall.\n",
      "John's age=21 and he is 2.12 meters tall.\n",
      "John's age=31 and he is 2.12 meters tall.\n"
     ]
    }
   ],
   "source": [
    "name = 'John'\n",
    "age = 21\n",
    "height = 2.1234\n",
    "\n",
    "# previous method using string format\n",
    "print('{}\\'s age={:d} and he is {:.2f} meters tall.'.format(name, age, height))\n",
    "\n",
    "# Cleaner and easier to read with f strings\n",
    "print(f'{name}\\'s {age=} and he is {height:.2f} meters tall.')   # age= is from python 3.8 only\n",
    "\n",
    "# multi line strings are easy too\n",
    "print(f'{name}\\'s {age=} and '\n",
    "      f'he is {height:.2f} meters tall.')\n",
    "\n",
    "# supports expressions within brackets too\n",
    "print(f'{name}\\'s age={age+10} and he is {height:.2f} meters tall.')   # age= is from python 3.8 only"
   ]
  },
  {
   "cell_type": "markdown",
   "id": "68de1956-c69f-440f-901f-5cfd8e419310",
   "metadata": {},
   "source": [
    "#### Pathlib Path\n",
    "\n",
    "Introduced in Python 3.4, but still not many people seem to use it. \n",
    "It makes dealing with file paths much easier than previous methods using the `os` module, and automatically handles different seperators for different OS's"
   ]
  },
  {
   "cell_type": "code",
   "execution_count": 21,
   "id": "0cb77804-fe4c-4b3c-92aa-b8a77b86af62",
   "metadata": {},
   "outputs": [],
   "source": [
    "from pathlib import Path"
   ]
  },
  {
   "cell_type": "code",
   "execution_count": 23,
   "id": "ef14bba9-a2ff-4303-a172-8ec706b443fa",
   "metadata": {},
   "outputs": [
    {
     "data": {
      "text/plain": [
       "PosixPath('/Users/djohnson/projects/Notebooks/assets/images')"
      ]
     },
     "execution_count": 23,
     "metadata": {},
     "output_type": "execute_result"
    }
   ],
   "source": [
    "working_path = Path('/Users/djohnson/projects/Notebooks/')\n",
    "assets_folder = 'assets'\n",
    "imgs_folder = 'images'\n",
    "\n",
    "imgs_path = working_path / assets_folder / imgs_folder\n",
    "imgs_path"
   ]
  },
  {
   "cell_type": "code",
   "execution_count": 28,
   "id": "12a68558-e345-4e69-aa55-3496a230b3e9",
   "metadata": {},
   "outputs": [
    {
     "name": "stdout",
     "output_type": "stream",
     "text": [
      "/Users/djohnson/projects/Notebooks/assets/images/melscale.png\n",
      "/Users/djohnson/projects/Notebooks/assets/images/dft.png\n",
      "/Users/djohnson/projects/Notebooks/assets/images/mfcc.png\n",
      "/Users/djohnson/projects/Notebooks/assets/images/STFT_Viz2.png\n",
      "/Users/djohnson/projects/Notebooks/assets/images/subimages/hann.png\n"
     ]
    }
   ],
   "source": [
    "# find all png files in a directory using recurisive glob method\n",
    "# returns a generator\n",
    "\n",
    "img_files = imgs_path.rglob('*.png')\n",
    "\n",
    "for f in img_files:\n",
    "    print(f)"
   ]
  },
  {
   "cell_type": "code",
   "execution_count": 31,
   "id": "b97a2c54-f065-4add-96e5-07adbdb82022",
   "metadata": {},
   "outputs": [
    {
     "data": {
      "text/plain": [
       "[]"
      ]
     },
     "execution_count": 31,
     "metadata": {},
     "output_type": "execute_result"
    }
   ],
   "source": [
    "# Be careful this returns a generator\n",
    "list(img_files)"
   ]
  },
  {
   "cell_type": "code",
   "execution_count": 32,
   "id": "896cc59e-faca-46ed-8b9b-8e9f0fea0981",
   "metadata": {},
   "outputs": [],
   "source": [
    "# so if you need to use the filepaths more than once save to a list first\n",
    "img_files = list(imgs_path.rglob('*.png'))"
   ]
  },
  {
   "cell_type": "code",
   "execution_count": 40,
   "id": "476229f1-1df4-48ff-881a-5d73d914023a",
   "metadata": {},
   "outputs": [
    {
     "name": "stdout",
     "output_type": "stream",
     "text": [
      "/Users/djohnson/projects/Notebooks/assets/images/melscale.png\n",
      "/Users/djohnson/projects/Notebooks/assets/images/dft.png\n",
      "/Users/djohnson/projects/Notebooks/assets/images/mfcc.png\n",
      "/Users/djohnson/projects/Notebooks/assets/images/STFT_Viz2.png\n",
      "/Users/djohnson/projects/Notebooks/assets/images/subimages/hann.png\n",
      "\n",
      "[PosixPath('/Users/djohnson/projects/Notebooks/assets/images/melscale.png'),\n",
      " PosixPath('/Users/djohnson/projects/Notebooks/assets/images/dft.png'),\n",
      " PosixPath('/Users/djohnson/projects/Notebooks/assets/images/mfcc.png'),\n",
      " PosixPath('/Users/djohnson/projects/Notebooks/assets/images/STFT_Viz2.png'),\n",
      " PosixPath('/Users/djohnson/projects/Notebooks/assets/images/subimages/hann.png')]\n"
     ]
    }
   ],
   "source": [
    "for f in img_files:\n",
    "    print(f)\n",
    "    \n",
    "print()\n",
    "pprint(img_files)"
   ]
  },
  {
   "cell_type": "markdown",
   "id": "b327a806-6646-4466-9d3e-6a4299c9c3f5",
   "metadata": {},
   "source": [
    "#### Underscores in variable names"
   ]
  },
  {
   "cell_type": "markdown",
   "id": "84bc773a-4a29-4a41-b5b7-b3242e01e302",
   "metadata": {},
   "source": [
    "- `_var` = private variable or method (intended for internal use\n",
    "- `__var` = python changes name to avoid \n",
    "- `var_` = used to avoid naming conflicts\n",
    "\n",
    "\n",
    "- `__func__` = magic methods\n",
    "\n",
    "Single underscore\n",
    "\n",
    "- used to indicate variable is insignificant or unused\n",
    "- `x, _ = func_with_two_return_values()`\n",
    "- `for _ in range(10):`\n"
   ]
  },
  {
   "cell_type": "markdown",
   "id": "f9669840-ba20-4cfd-9b90-54772c37306f",
   "metadata": {},
   "source": [
    "#### Things to Avoid"
   ]
  },
  {
   "cell_type": "code",
   "execution_count": null,
   "id": "e4eca810-c359-453a-a804-6e1db5c41975",
   "metadata": {},
   "outputs": [],
   "source": [
    "# don't do this, many naming conflicts and loading of modules and resources that are not needed\n",
    "from module import *\n",
    "\n",
    "#instead\n",
    "import module \n",
    "import module as md\n",
    "\n",
    "from module import ModClass, mod_function"
   ]
  },
  {
   "cell_type": "markdown",
   "id": "a4243870-1aea-4750-8312-05f6d7694745",
   "metadata": {},
   "source": [
    "#### List and Dict Comprehensions"
   ]
  },
  {
   "cell_type": "code",
   "execution_count": 55,
   "id": "a507f643-29b7-480e-896d-d3c40067a2be",
   "metadata": {},
   "outputs": [
    {
     "data": {
      "text/plain": [
       "[0, 3, 6, 9, 12, 15, 18, 21]"
      ]
     },
     "execution_count": 55,
     "metadata": {},
     "output_type": "execute_result"
    }
   ],
   "source": [
    "list1 = list(range(0, 22, 3))\n",
    "list1"
   ]
  },
  {
   "cell_type": "code",
   "execution_count": 56,
   "id": "4b32c591-984c-4525-8e29-eb78659cc20b",
   "metadata": {},
   "outputs": [
    {
     "data": {
      "text/plain": [
       "[0, 6, 12, 18, 24, 30, 36, 42]"
      ]
     },
     "execution_count": 56,
     "metadata": {},
     "output_type": "execute_result"
    }
   ],
   "source": [
    "# basic list comprension\n",
    "doubled = [x*2 for x in list1]\n",
    "doubled"
   ]
  },
  {
   "cell_type": "code",
   "execution_count": 57,
   "id": "d60b8292-b48e-4a1e-8c61-fa60f2f3cf95",
   "metadata": {},
   "outputs": [
    {
     "data": {
      "text/plain": [
       "[0, 6, 12, 18]"
      ]
     },
     "execution_count": 57,
     "metadata": {},
     "output_type": "execute_result"
    }
   ],
   "source": [
    "# filtering\n",
    "evenlist = [x for x in list1 if x % 2 == 0]\n",
    "evenlist"
   ]
  },
  {
   "cell_type": "code",
   "execution_count": 60,
   "id": "4a2033ff-0e0e-4ead-818a-2312988beb6f",
   "metadata": {},
   "outputs": [
    {
     "data": {
      "text/plain": [
       "[3, 9, 15, 21]"
      ]
     },
     "execution_count": 60,
     "metadata": {},
     "output_type": "execute_result"
    }
   ],
   "source": [
    "oddlist = [x for x in list1 if x % 2 != 0]\n",
    "oddlist"
   ]
  },
  {
   "cell_type": "code",
   "execution_count": 62,
   "id": "6ad78611-b305-4e6c-bf09-cc67f3caba5e",
   "metadata": {},
   "outputs": [
    {
     "data": {
      "text/plain": [
       "[(3, 0),\n",
       " (3, 6),\n",
       " (3, 12),\n",
       " (3, 18),\n",
       " (9, 0),\n",
       " (9, 6),\n",
       " (9, 12),\n",
       " (9, 18),\n",
       " (15, 0),\n",
       " (15, 6),\n",
       " (15, 12),\n",
       " (15, 18),\n",
       " (21, 0),\n",
       " (21, 6),\n",
       " (21, 12),\n",
       " (21, 18)]"
      ]
     },
     "execution_count": 62,
     "metadata": {},
     "output_type": "execute_result"
    }
   ],
   "source": [
    "# nested \n",
    "productlist = [(x, y)for x in oddlist for y in evenlist]\n",
    "productlist"
   ]
  },
  {
   "cell_type": "code",
   "execution_count": 63,
   "id": "a1afba7e-3a54-4e06-818d-b56d0efbbf85",
   "metadata": {},
   "outputs": [
    {
     "data": {
      "text/plain": [
       "{0: 3, 6: 9, 12: 15, 18: 21}"
      ]
     },
     "execution_count": 63,
     "metadata": {},
     "output_type": "execute_result"
    }
   ],
   "source": [
    "# dictionary comprehension\n",
    "evenodd_dict = {e: o for e, o in zip(evenlist, oddlist)}\n",
    "evenodd_dict"
   ]
  },
  {
   "cell_type": "code",
   "execution_count": 65,
   "id": "11cb1048-09cf-4bcf-8ebc-a903fac21e2f",
   "metadata": {},
   "outputs": [
    {
     "data": {
      "text/plain": [
       "{3: 0, 9: 6, 15: 12, 21: 18}"
      ]
     },
     "execution_count": 65,
     "metadata": {},
     "output_type": "execute_result"
    }
   ],
   "source": [
    "# swapping a dict\n",
    "oddeven_dict = {v: k for k, v in evenodd_dict.items()}\n",
    "oddeven_dict"
   ]
  },
  {
   "cell_type": "markdown",
   "id": "f7259bc8-9d8b-4d07-9e53-d597669e87f5",
   "metadata": {},
   "source": [
    "### Collection Library"
   ]
  },
  {
   "cell_type": "markdown",
   "id": "cdefe23a-d93e-4f40-8981-78a03ebe077b",
   "metadata": {},
   "source": [
    "#### Functors\n",
    "A function object, or an obect that is used like a function (ie an object that is directly callable)"
   ]
  },
  {
   "cell_type": "code",
   "execution_count": 173,
   "id": "12b08ff5-c940-453b-b6d7-35f3ac2cad42",
   "metadata": {},
   "outputs": [],
   "source": [
    "# Normal Class\n",
    "class Adder:\n",
    "    def __init__(self, n):\n",
    "        self._n = n\n",
    "        \n",
    "    def add(self, x):\n",
    "        return self._n + x"
   ]
  },
  {
   "cell_type": "code",
   "execution_count": 174,
   "id": "5a395ff1-e161-4feb-8584-fe63ab1fb2a9",
   "metadata": {},
   "outputs": [
    {
     "data": {
      "text/plain": [
       "18"
      ]
     },
     "execution_count": 174,
     "metadata": {},
     "output_type": "execute_result"
    }
   ],
   "source": [
    "add3 = Adder(3)\n",
    "add3.add(15)"
   ]
  },
  {
   "cell_type": "code",
   "execution_count": 175,
   "id": "436f42bb-1e1a-4682-85c4-8641a84517cc",
   "metadata": {},
   "outputs": [],
   "source": [
    "# Callable Class\n",
    "class AdderCallable:\n",
    "    def __init__(self, n):\n",
    "        self._n = n\n",
    "        \n",
    "    def __call__(self, *args, **kwargs):\n",
    "        # magic function to make class callable\n",
    "        return self.add(*args, **kwargs)\n",
    "        \n",
    "    def add(self, x):\n",
    "        return self._n + x"
   ]
  },
  {
   "cell_type": "code",
   "execution_count": 176,
   "id": "4b7fd0f8-a108-43e3-9cec-07d76f2b84fa",
   "metadata": {},
   "outputs": [
    {
     "data": {
      "text/plain": [
       "19"
      ]
     },
     "execution_count": 176,
     "metadata": {},
     "output_type": "execute_result"
    }
   ],
   "source": [
    "add4 = AdderCallable(4)\n",
    "add4(15)"
   ]
  },
  {
   "cell_type": "markdown",
   "id": "cd882308-a326-410e-b74b-c42825b9f5f7",
   "metadata": {},
   "source": [
    "#### Lambdas"
   ]
  },
  {
   "cell_type": "code",
   "execution_count": 81,
   "id": "8d6218b1-84f0-44b2-8240-e243a497e08f",
   "metadata": {},
   "outputs": [],
   "source": [
    "power = lambda x, y: x**y"
   ]
  },
  {
   "cell_type": "code",
   "execution_count": 82,
   "id": "49e0287b-a6df-4110-b529-b2bd13700a93",
   "metadata": {},
   "outputs": [
    {
     "data": {
      "text/plain": [
       "8"
      ]
     },
     "execution_count": 82,
     "metadata": {},
     "output_type": "execute_result"
    }
   ],
   "source": [
    "power(2, 3)"
   ]
  },
  {
   "cell_type": "code",
   "execution_count": 85,
   "id": "3d47b59a-5364-4a30-a4f1-e1b7939372af",
   "metadata": {},
   "outputs": [
    {
     "data": {
      "text/plain": [
       "[1, 2, 4, 8, 16, 32, 64, 128, 256, 512, 1024, 2048]"
      ]
     },
     "execution_count": 85,
     "metadata": {},
     "output_type": "execute_result"
    }
   ],
   "source": [
    "[power(2, x) for x in range(12)]"
   ]
  },
  {
   "cell_type": "code",
   "execution_count": 88,
   "id": "75b8eeed-d129-4c86-b222-eed738e3f451",
   "metadata": {},
   "outputs": [
    {
     "data": {
      "text/plain": [
       "[(10, 'd'), (20, 'c'), (30, 'b'), (40, 'a')]"
      ]
     },
     "execution_count": 88,
     "metadata": {},
     "output_type": "execute_result"
    }
   ],
   "source": [
    "t = [(30, 'b'), (20, 'c'), (40, 'a'), (10, 'd')]\n",
    "sorted(t)"
   ]
  },
  {
   "cell_type": "code",
   "execution_count": 89,
   "id": "65fd5081-83cf-4901-ad64-747be7a18bdc",
   "metadata": {},
   "outputs": [
    {
     "data": {
      "text/plain": [
       "[(40, 'a'), (30, 'b'), (20, 'c'), (10, 'd')]"
      ]
     },
     "execution_count": 89,
     "metadata": {},
     "output_type": "execute_result"
    }
   ],
   "source": [
    "sorted(t, key=lambda x: x[1])"
   ]
  },
  {
   "cell_type": "markdown",
   "id": "a28a6ab5-554e-481c-90b9-a86ce5f59f9b",
   "metadata": {},
   "source": [
    "#### Map, Filter and Reduce"
   ]
  },
  {
   "cell_type": "code",
   "execution_count": 90,
   "id": "32418afd-4f1e-4266-889b-e35bef420dde",
   "metadata": {},
   "outputs": [
    {
     "data": {
      "text/plain": [
       "[0, 3, 6, 9, 12, 15, 18, 21]"
      ]
     },
     "execution_count": 90,
     "metadata": {},
     "output_type": "execute_result"
    }
   ],
   "source": [
    "list1"
   ]
  },
  {
   "cell_type": "code",
   "execution_count": 98,
   "id": "7cf92d4c-95c4-439b-a51c-a2604a29719e",
   "metadata": {},
   "outputs": [
    {
     "data": {
      "text/plain": [
       "<map at 0x7fbd1906e700>"
      ]
     },
     "execution_count": 98,
     "metadata": {},
     "output_type": "execute_result"
    }
   ],
   "source": [
    "# Map\n",
    "doubles = map(lambda x: x*2, list1)\n",
    "doubles"
   ]
  },
  {
   "cell_type": "code",
   "execution_count": 95,
   "id": "dc7f6599-328a-44c4-bd07-75b6d9140a90",
   "metadata": {},
   "outputs": [
    {
     "data": {
      "text/plain": [
       "[0, 6, 12, 18, 24, 30, 36, 42]"
      ]
     },
     "execution_count": 95,
     "metadata": {},
     "output_type": "execute_result"
    }
   ],
   "source": [
    "list(doubles)"
   ]
  },
  {
   "cell_type": "code",
   "execution_count": 97,
   "id": "4b56c64a-57b5-4b51-bdf7-1e540e39a0eb",
   "metadata": {},
   "outputs": [
    {
     "data": {
      "text/plain": [
       "[0, 6, 12, 18]"
      ]
     },
     "execution_count": 97,
     "metadata": {},
     "output_type": "execute_result"
    }
   ],
   "source": [
    "# Filter\n",
    "evens = filter(lambda x: x % 2 == 0, list1)\n",
    "list(evens)"
   ]
  },
  {
   "cell_type": "code",
   "execution_count": 113,
   "id": "d6a53343-1aa2-45c4-8218-6384e503dbed",
   "metadata": {},
   "outputs": [
    {
     "data": {
      "text/plain": [
       "84"
      ]
     },
     "execution_count": 113,
     "metadata": {},
     "output_type": "execute_result"
    }
   ],
   "source": [
    "# Reduce\n",
    "from functools import reduce\n",
    "\n",
    "summed = reduce(lambda x, y: x+y, list1)\n",
    "summed"
   ]
  },
  {
   "cell_type": "markdown",
   "id": "e9802f5d-815b-4ec8-b551-8b3021abb7e2",
   "metadata": {},
   "source": [
    "#### Python itertools module\n",
    "[itertools Documentation](https://docs.python.org/3/library/itertools.html#module-itertools)"
   ]
  },
  {
   "cell_type": "code",
   "execution_count": 119,
   "id": "76eb0dce-c2b3-474d-8264-30f58f71afe0",
   "metadata": {},
   "outputs": [],
   "source": [
    "import itertools"
   ]
  },
  {
   "cell_type": "code",
   "execution_count": 114,
   "id": "093c6487-8b9f-4982-a6bc-ca9cf62aeec1",
   "metadata": {},
   "outputs": [],
   "source": [
    "gridspace =  dict(\n",
    "    n_layers = [2, 3, 4],\n",
    "    n_units = [64, 128, 256],\n",
    "    dropout = [0.10, 0.25, 0.35],\n",
    "    lr = [0.00025, 0.00075, 0.001, 0.005]\n",
    ")"
   ]
  },
  {
   "cell_type": "code",
   "execution_count": 117,
   "id": "f80fc0e2-5aa4-456b-a17b-c95c9fdcffa1",
   "metadata": {},
   "outputs": [
    {
     "data": {
      "text/plain": [
       "[[2, 3, 4],\n",
       " [64, 128, 256],\n",
       " [0.1, 0.25, 0.35],\n",
       " [0.00025, 0.00075, 0.001, 0.005]]"
      ]
     },
     "execution_count": 117,
     "metadata": {},
     "output_type": "execute_result"
    }
   ],
   "source": [
    "x = [v for v in gridspace.values()]\n",
    "x"
   ]
  },
  {
   "cell_type": "code",
   "execution_count": 120,
   "id": "a50e124d-65af-4571-a8e2-ccea3d2211fe",
   "metadata": {
    "collapsed": true,
    "jupyter": {
     "outputs_hidden": true
    },
    "tags": []
   },
   "outputs": [
    {
     "data": {
      "text/plain": [
       "[(2, 64, 0.1, 0.00025),\n",
       " (2, 64, 0.1, 0.00075),\n",
       " (2, 64, 0.1, 0.001),\n",
       " (2, 64, 0.1, 0.005),\n",
       " (2, 64, 0.25, 0.00025),\n",
       " (2, 64, 0.25, 0.00075),\n",
       " (2, 64, 0.25, 0.001),\n",
       " (2, 64, 0.25, 0.005),\n",
       " (2, 64, 0.35, 0.00025),\n",
       " (2, 64, 0.35, 0.00075),\n",
       " (2, 64, 0.35, 0.001),\n",
       " (2, 64, 0.35, 0.005),\n",
       " (2, 128, 0.1, 0.00025),\n",
       " (2, 128, 0.1, 0.00075),\n",
       " (2, 128, 0.1, 0.001),\n",
       " (2, 128, 0.1, 0.005),\n",
       " (2, 128, 0.25, 0.00025),\n",
       " (2, 128, 0.25, 0.00075),\n",
       " (2, 128, 0.25, 0.001),\n",
       " (2, 128, 0.25, 0.005),\n",
       " (2, 128, 0.35, 0.00025),\n",
       " (2, 128, 0.35, 0.00075),\n",
       " (2, 128, 0.35, 0.001),\n",
       " (2, 128, 0.35, 0.005),\n",
       " (2, 256, 0.1, 0.00025),\n",
       " (2, 256, 0.1, 0.00075),\n",
       " (2, 256, 0.1, 0.001),\n",
       " (2, 256, 0.1, 0.005),\n",
       " (2, 256, 0.25, 0.00025),\n",
       " (2, 256, 0.25, 0.00075),\n",
       " (2, 256, 0.25, 0.001),\n",
       " (2, 256, 0.25, 0.005),\n",
       " (2, 256, 0.35, 0.00025),\n",
       " (2, 256, 0.35, 0.00075),\n",
       " (2, 256, 0.35, 0.001),\n",
       " (2, 256, 0.35, 0.005),\n",
       " (3, 64, 0.1, 0.00025),\n",
       " (3, 64, 0.1, 0.00075),\n",
       " (3, 64, 0.1, 0.001),\n",
       " (3, 64, 0.1, 0.005),\n",
       " (3, 64, 0.25, 0.00025),\n",
       " (3, 64, 0.25, 0.00075),\n",
       " (3, 64, 0.25, 0.001),\n",
       " (3, 64, 0.25, 0.005),\n",
       " (3, 64, 0.35, 0.00025),\n",
       " (3, 64, 0.35, 0.00075),\n",
       " (3, 64, 0.35, 0.001),\n",
       " (3, 64, 0.35, 0.005),\n",
       " (3, 128, 0.1, 0.00025),\n",
       " (3, 128, 0.1, 0.00075),\n",
       " (3, 128, 0.1, 0.001),\n",
       " (3, 128, 0.1, 0.005),\n",
       " (3, 128, 0.25, 0.00025),\n",
       " (3, 128, 0.25, 0.00075),\n",
       " (3, 128, 0.25, 0.001),\n",
       " (3, 128, 0.25, 0.005),\n",
       " (3, 128, 0.35, 0.00025),\n",
       " (3, 128, 0.35, 0.00075),\n",
       " (3, 128, 0.35, 0.001),\n",
       " (3, 128, 0.35, 0.005),\n",
       " (3, 256, 0.1, 0.00025),\n",
       " (3, 256, 0.1, 0.00075),\n",
       " (3, 256, 0.1, 0.001),\n",
       " (3, 256, 0.1, 0.005),\n",
       " (3, 256, 0.25, 0.00025),\n",
       " (3, 256, 0.25, 0.00075),\n",
       " (3, 256, 0.25, 0.001),\n",
       " (3, 256, 0.25, 0.005),\n",
       " (3, 256, 0.35, 0.00025),\n",
       " (3, 256, 0.35, 0.00075),\n",
       " (3, 256, 0.35, 0.001),\n",
       " (3, 256, 0.35, 0.005),\n",
       " (4, 64, 0.1, 0.00025),\n",
       " (4, 64, 0.1, 0.00075),\n",
       " (4, 64, 0.1, 0.001),\n",
       " (4, 64, 0.1, 0.005),\n",
       " (4, 64, 0.25, 0.00025),\n",
       " (4, 64, 0.25, 0.00075),\n",
       " (4, 64, 0.25, 0.001),\n",
       " (4, 64, 0.25, 0.005),\n",
       " (4, 64, 0.35, 0.00025),\n",
       " (4, 64, 0.35, 0.00075),\n",
       " (4, 64, 0.35, 0.001),\n",
       " (4, 64, 0.35, 0.005),\n",
       " (4, 128, 0.1, 0.00025),\n",
       " (4, 128, 0.1, 0.00075),\n",
       " (4, 128, 0.1, 0.001),\n",
       " (4, 128, 0.1, 0.005),\n",
       " (4, 128, 0.25, 0.00025),\n",
       " (4, 128, 0.25, 0.00075),\n",
       " (4, 128, 0.25, 0.001),\n",
       " (4, 128, 0.25, 0.005),\n",
       " (4, 128, 0.35, 0.00025),\n",
       " (4, 128, 0.35, 0.00075),\n",
       " (4, 128, 0.35, 0.001),\n",
       " (4, 128, 0.35, 0.005),\n",
       " (4, 256, 0.1, 0.00025),\n",
       " (4, 256, 0.1, 0.00075),\n",
       " (4, 256, 0.1, 0.001),\n",
       " (4, 256, 0.1, 0.005),\n",
       " (4, 256, 0.25, 0.00025),\n",
       " (4, 256, 0.25, 0.00075),\n",
       " (4, 256, 0.25, 0.001),\n",
       " (4, 256, 0.25, 0.005),\n",
       " (4, 256, 0.35, 0.00025),\n",
       " (4, 256, 0.35, 0.00075),\n",
       " (4, 256, 0.35, 0.001),\n",
       " (4, 256, 0.35, 0.005)]"
      ]
     },
     "execution_count": 120,
     "metadata": {},
     "output_type": "execute_result"
    }
   ],
   "source": [
    "combinations = list(itertools.product(*x))\n",
    "combinations"
   ]
  },
  {
   "cell_type": "code",
   "execution_count": 123,
   "id": "ebd81e8c-df12-41e7-aaf7-744c1430b418",
   "metadata": {
    "collapsed": true,
    "jupyter": {
     "outputs_hidden": true
    },
    "tags": []
   },
   "outputs": [
    {
     "data": {
      "text/plain": [
       "[{'n_layers': 2, 'n_units': 64, 'dropout': 0.1, 'lr': 0.00025},\n",
       " {'n_layers': 2, 'n_units': 64, 'dropout': 0.1, 'lr': 0.00075},\n",
       " {'n_layers': 2, 'n_units': 64, 'dropout': 0.1, 'lr': 0.001},\n",
       " {'n_layers': 2, 'n_units': 64, 'dropout': 0.1, 'lr': 0.005},\n",
       " {'n_layers': 2, 'n_units': 64, 'dropout': 0.25, 'lr': 0.00025},\n",
       " {'n_layers': 2, 'n_units': 64, 'dropout': 0.25, 'lr': 0.00075},\n",
       " {'n_layers': 2, 'n_units': 64, 'dropout': 0.25, 'lr': 0.001},\n",
       " {'n_layers': 2, 'n_units': 64, 'dropout': 0.25, 'lr': 0.005},\n",
       " {'n_layers': 2, 'n_units': 64, 'dropout': 0.35, 'lr': 0.00025},\n",
       " {'n_layers': 2, 'n_units': 64, 'dropout': 0.35, 'lr': 0.00075},\n",
       " {'n_layers': 2, 'n_units': 64, 'dropout': 0.35, 'lr': 0.001},\n",
       " {'n_layers': 2, 'n_units': 64, 'dropout': 0.35, 'lr': 0.005},\n",
       " {'n_layers': 2, 'n_units': 128, 'dropout': 0.1, 'lr': 0.00025},\n",
       " {'n_layers': 2, 'n_units': 128, 'dropout': 0.1, 'lr': 0.00075},\n",
       " {'n_layers': 2, 'n_units': 128, 'dropout': 0.1, 'lr': 0.001},\n",
       " {'n_layers': 2, 'n_units': 128, 'dropout': 0.1, 'lr': 0.005},\n",
       " {'n_layers': 2, 'n_units': 128, 'dropout': 0.25, 'lr': 0.00025},\n",
       " {'n_layers': 2, 'n_units': 128, 'dropout': 0.25, 'lr': 0.00075},\n",
       " {'n_layers': 2, 'n_units': 128, 'dropout': 0.25, 'lr': 0.001},\n",
       " {'n_layers': 2, 'n_units': 128, 'dropout': 0.25, 'lr': 0.005},\n",
       " {'n_layers': 2, 'n_units': 128, 'dropout': 0.35, 'lr': 0.00025},\n",
       " {'n_layers': 2, 'n_units': 128, 'dropout': 0.35, 'lr': 0.00075},\n",
       " {'n_layers': 2, 'n_units': 128, 'dropout': 0.35, 'lr': 0.001},\n",
       " {'n_layers': 2, 'n_units': 128, 'dropout': 0.35, 'lr': 0.005},\n",
       " {'n_layers': 2, 'n_units': 256, 'dropout': 0.1, 'lr': 0.00025},\n",
       " {'n_layers': 2, 'n_units': 256, 'dropout': 0.1, 'lr': 0.00075},\n",
       " {'n_layers': 2, 'n_units': 256, 'dropout': 0.1, 'lr': 0.001},\n",
       " {'n_layers': 2, 'n_units': 256, 'dropout': 0.1, 'lr': 0.005},\n",
       " {'n_layers': 2, 'n_units': 256, 'dropout': 0.25, 'lr': 0.00025},\n",
       " {'n_layers': 2, 'n_units': 256, 'dropout': 0.25, 'lr': 0.00075},\n",
       " {'n_layers': 2, 'n_units': 256, 'dropout': 0.25, 'lr': 0.001},\n",
       " {'n_layers': 2, 'n_units': 256, 'dropout': 0.25, 'lr': 0.005},\n",
       " {'n_layers': 2, 'n_units': 256, 'dropout': 0.35, 'lr': 0.00025},\n",
       " {'n_layers': 2, 'n_units': 256, 'dropout': 0.35, 'lr': 0.00075},\n",
       " {'n_layers': 2, 'n_units': 256, 'dropout': 0.35, 'lr': 0.001},\n",
       " {'n_layers': 2, 'n_units': 256, 'dropout': 0.35, 'lr': 0.005},\n",
       " {'n_layers': 3, 'n_units': 64, 'dropout': 0.1, 'lr': 0.00025},\n",
       " {'n_layers': 3, 'n_units': 64, 'dropout': 0.1, 'lr': 0.00075},\n",
       " {'n_layers': 3, 'n_units': 64, 'dropout': 0.1, 'lr': 0.001},\n",
       " {'n_layers': 3, 'n_units': 64, 'dropout': 0.1, 'lr': 0.005},\n",
       " {'n_layers': 3, 'n_units': 64, 'dropout': 0.25, 'lr': 0.00025},\n",
       " {'n_layers': 3, 'n_units': 64, 'dropout': 0.25, 'lr': 0.00075},\n",
       " {'n_layers': 3, 'n_units': 64, 'dropout': 0.25, 'lr': 0.001},\n",
       " {'n_layers': 3, 'n_units': 64, 'dropout': 0.25, 'lr': 0.005},\n",
       " {'n_layers': 3, 'n_units': 64, 'dropout': 0.35, 'lr': 0.00025},\n",
       " {'n_layers': 3, 'n_units': 64, 'dropout': 0.35, 'lr': 0.00075},\n",
       " {'n_layers': 3, 'n_units': 64, 'dropout': 0.35, 'lr': 0.001},\n",
       " {'n_layers': 3, 'n_units': 64, 'dropout': 0.35, 'lr': 0.005},\n",
       " {'n_layers': 3, 'n_units': 128, 'dropout': 0.1, 'lr': 0.00025},\n",
       " {'n_layers': 3, 'n_units': 128, 'dropout': 0.1, 'lr': 0.00075},\n",
       " {'n_layers': 3, 'n_units': 128, 'dropout': 0.1, 'lr': 0.001},\n",
       " {'n_layers': 3, 'n_units': 128, 'dropout': 0.1, 'lr': 0.005},\n",
       " {'n_layers': 3, 'n_units': 128, 'dropout': 0.25, 'lr': 0.00025},\n",
       " {'n_layers': 3, 'n_units': 128, 'dropout': 0.25, 'lr': 0.00075},\n",
       " {'n_layers': 3, 'n_units': 128, 'dropout': 0.25, 'lr': 0.001},\n",
       " {'n_layers': 3, 'n_units': 128, 'dropout': 0.25, 'lr': 0.005},\n",
       " {'n_layers': 3, 'n_units': 128, 'dropout': 0.35, 'lr': 0.00025},\n",
       " {'n_layers': 3, 'n_units': 128, 'dropout': 0.35, 'lr': 0.00075},\n",
       " {'n_layers': 3, 'n_units': 128, 'dropout': 0.35, 'lr': 0.001},\n",
       " {'n_layers': 3, 'n_units': 128, 'dropout': 0.35, 'lr': 0.005},\n",
       " {'n_layers': 3, 'n_units': 256, 'dropout': 0.1, 'lr': 0.00025},\n",
       " {'n_layers': 3, 'n_units': 256, 'dropout': 0.1, 'lr': 0.00075},\n",
       " {'n_layers': 3, 'n_units': 256, 'dropout': 0.1, 'lr': 0.001},\n",
       " {'n_layers': 3, 'n_units': 256, 'dropout': 0.1, 'lr': 0.005},\n",
       " {'n_layers': 3, 'n_units': 256, 'dropout': 0.25, 'lr': 0.00025},\n",
       " {'n_layers': 3, 'n_units': 256, 'dropout': 0.25, 'lr': 0.00075},\n",
       " {'n_layers': 3, 'n_units': 256, 'dropout': 0.25, 'lr': 0.001},\n",
       " {'n_layers': 3, 'n_units': 256, 'dropout': 0.25, 'lr': 0.005},\n",
       " {'n_layers': 3, 'n_units': 256, 'dropout': 0.35, 'lr': 0.00025},\n",
       " {'n_layers': 3, 'n_units': 256, 'dropout': 0.35, 'lr': 0.00075},\n",
       " {'n_layers': 3, 'n_units': 256, 'dropout': 0.35, 'lr': 0.001},\n",
       " {'n_layers': 3, 'n_units': 256, 'dropout': 0.35, 'lr': 0.005},\n",
       " {'n_layers': 4, 'n_units': 64, 'dropout': 0.1, 'lr': 0.00025},\n",
       " {'n_layers': 4, 'n_units': 64, 'dropout': 0.1, 'lr': 0.00075},\n",
       " {'n_layers': 4, 'n_units': 64, 'dropout': 0.1, 'lr': 0.001},\n",
       " {'n_layers': 4, 'n_units': 64, 'dropout': 0.1, 'lr': 0.005},\n",
       " {'n_layers': 4, 'n_units': 64, 'dropout': 0.25, 'lr': 0.00025},\n",
       " {'n_layers': 4, 'n_units': 64, 'dropout': 0.25, 'lr': 0.00075},\n",
       " {'n_layers': 4, 'n_units': 64, 'dropout': 0.25, 'lr': 0.001},\n",
       " {'n_layers': 4, 'n_units': 64, 'dropout': 0.25, 'lr': 0.005},\n",
       " {'n_layers': 4, 'n_units': 64, 'dropout': 0.35, 'lr': 0.00025},\n",
       " {'n_layers': 4, 'n_units': 64, 'dropout': 0.35, 'lr': 0.00075},\n",
       " {'n_layers': 4, 'n_units': 64, 'dropout': 0.35, 'lr': 0.001},\n",
       " {'n_layers': 4, 'n_units': 64, 'dropout': 0.35, 'lr': 0.005},\n",
       " {'n_layers': 4, 'n_units': 128, 'dropout': 0.1, 'lr': 0.00025},\n",
       " {'n_layers': 4, 'n_units': 128, 'dropout': 0.1, 'lr': 0.00075},\n",
       " {'n_layers': 4, 'n_units': 128, 'dropout': 0.1, 'lr': 0.001},\n",
       " {'n_layers': 4, 'n_units': 128, 'dropout': 0.1, 'lr': 0.005},\n",
       " {'n_layers': 4, 'n_units': 128, 'dropout': 0.25, 'lr': 0.00025},\n",
       " {'n_layers': 4, 'n_units': 128, 'dropout': 0.25, 'lr': 0.00075},\n",
       " {'n_layers': 4, 'n_units': 128, 'dropout': 0.25, 'lr': 0.001},\n",
       " {'n_layers': 4, 'n_units': 128, 'dropout': 0.25, 'lr': 0.005},\n",
       " {'n_layers': 4, 'n_units': 128, 'dropout': 0.35, 'lr': 0.00025},\n",
       " {'n_layers': 4, 'n_units': 128, 'dropout': 0.35, 'lr': 0.00075},\n",
       " {'n_layers': 4, 'n_units': 128, 'dropout': 0.35, 'lr': 0.001},\n",
       " {'n_layers': 4, 'n_units': 128, 'dropout': 0.35, 'lr': 0.005},\n",
       " {'n_layers': 4, 'n_units': 256, 'dropout': 0.1, 'lr': 0.00025},\n",
       " {'n_layers': 4, 'n_units': 256, 'dropout': 0.1, 'lr': 0.00075},\n",
       " {'n_layers': 4, 'n_units': 256, 'dropout': 0.1, 'lr': 0.001},\n",
       " {'n_layers': 4, 'n_units': 256, 'dropout': 0.1, 'lr': 0.005},\n",
       " {'n_layers': 4, 'n_units': 256, 'dropout': 0.25, 'lr': 0.00025},\n",
       " {'n_layers': 4, 'n_units': 256, 'dropout': 0.25, 'lr': 0.00075},\n",
       " {'n_layers': 4, 'n_units': 256, 'dropout': 0.25, 'lr': 0.001},\n",
       " {'n_layers': 4, 'n_units': 256, 'dropout': 0.25, 'lr': 0.005},\n",
       " {'n_layers': 4, 'n_units': 256, 'dropout': 0.35, 'lr': 0.00025},\n",
       " {'n_layers': 4, 'n_units': 256, 'dropout': 0.35, 'lr': 0.00075},\n",
       " {'n_layers': 4, 'n_units': 256, 'dropout': 0.35, 'lr': 0.001},\n",
       " {'n_layers': 4, 'n_units': 256, 'dropout': 0.35, 'lr': 0.005}]"
      ]
     },
     "execution_count": 123,
     "metadata": {},
     "output_type": "execute_result"
    }
   ],
   "source": [
    "grid = [{key: value[j] for j, key in enumerate(gridspace)} for i, value in enumerate(combinations)]\n",
    "grid"
   ]
  },
  {
   "cell_type": "code",
   "execution_count": 122,
   "id": "81ae525e-41ec-4e86-a835-197e42dce7c2",
   "metadata": {
    "collapsed": true,
    "jupyter": {
     "outputs_hidden": true
    },
    "tags": []
   },
   "outputs": [
    {
     "data": {
      "text/plain": [
       "[{'n_layers': 2, 'n_units': 64, 'dropout': 0.1, 'lr': 0.00025},\n",
       " {'n_layers': 2, 'n_units': 64, 'dropout': 0.1, 'lr': 0.00075},\n",
       " {'n_layers': 2, 'n_units': 64, 'dropout': 0.1, 'lr': 0.001},\n",
       " {'n_layers': 2, 'n_units': 64, 'dropout': 0.1, 'lr': 0.005},\n",
       " {'n_layers': 2, 'n_units': 64, 'dropout': 0.25, 'lr': 0.00025},\n",
       " {'n_layers': 2, 'n_units': 64, 'dropout': 0.25, 'lr': 0.00075},\n",
       " {'n_layers': 2, 'n_units': 64, 'dropout': 0.25, 'lr': 0.001},\n",
       " {'n_layers': 2, 'n_units': 64, 'dropout': 0.25, 'lr': 0.005},\n",
       " {'n_layers': 2, 'n_units': 64, 'dropout': 0.35, 'lr': 0.00025},\n",
       " {'n_layers': 2, 'n_units': 64, 'dropout': 0.35, 'lr': 0.00075},\n",
       " {'n_layers': 2, 'n_units': 64, 'dropout': 0.35, 'lr': 0.001},\n",
       " {'n_layers': 2, 'n_units': 64, 'dropout': 0.35, 'lr': 0.005},\n",
       " {'n_layers': 2, 'n_units': 128, 'dropout': 0.1, 'lr': 0.00025},\n",
       " {'n_layers': 2, 'n_units': 128, 'dropout': 0.1, 'lr': 0.00075},\n",
       " {'n_layers': 2, 'n_units': 128, 'dropout': 0.1, 'lr': 0.001},\n",
       " {'n_layers': 2, 'n_units': 128, 'dropout': 0.1, 'lr': 0.005},\n",
       " {'n_layers': 2, 'n_units': 128, 'dropout': 0.25, 'lr': 0.00025},\n",
       " {'n_layers': 2, 'n_units': 128, 'dropout': 0.25, 'lr': 0.00075},\n",
       " {'n_layers': 2, 'n_units': 128, 'dropout': 0.25, 'lr': 0.001},\n",
       " {'n_layers': 2, 'n_units': 128, 'dropout': 0.25, 'lr': 0.005},\n",
       " {'n_layers': 2, 'n_units': 128, 'dropout': 0.35, 'lr': 0.00025},\n",
       " {'n_layers': 2, 'n_units': 128, 'dropout': 0.35, 'lr': 0.00075},\n",
       " {'n_layers': 2, 'n_units': 128, 'dropout': 0.35, 'lr': 0.001},\n",
       " {'n_layers': 2, 'n_units': 128, 'dropout': 0.35, 'lr': 0.005},\n",
       " {'n_layers': 2, 'n_units': 256, 'dropout': 0.1, 'lr': 0.00025},\n",
       " {'n_layers': 2, 'n_units': 256, 'dropout': 0.1, 'lr': 0.00075},\n",
       " {'n_layers': 2, 'n_units': 256, 'dropout': 0.1, 'lr': 0.001},\n",
       " {'n_layers': 2, 'n_units': 256, 'dropout': 0.1, 'lr': 0.005},\n",
       " {'n_layers': 2, 'n_units': 256, 'dropout': 0.25, 'lr': 0.00025},\n",
       " {'n_layers': 2, 'n_units': 256, 'dropout': 0.25, 'lr': 0.00075},\n",
       " {'n_layers': 2, 'n_units': 256, 'dropout': 0.25, 'lr': 0.001},\n",
       " {'n_layers': 2, 'n_units': 256, 'dropout': 0.25, 'lr': 0.005},\n",
       " {'n_layers': 2, 'n_units': 256, 'dropout': 0.35, 'lr': 0.00025},\n",
       " {'n_layers': 2, 'n_units': 256, 'dropout': 0.35, 'lr': 0.00075},\n",
       " {'n_layers': 2, 'n_units': 256, 'dropout': 0.35, 'lr': 0.001},\n",
       " {'n_layers': 2, 'n_units': 256, 'dropout': 0.35, 'lr': 0.005},\n",
       " {'n_layers': 3, 'n_units': 64, 'dropout': 0.1, 'lr': 0.00025},\n",
       " {'n_layers': 3, 'n_units': 64, 'dropout': 0.1, 'lr': 0.00075},\n",
       " {'n_layers': 3, 'n_units': 64, 'dropout': 0.1, 'lr': 0.001},\n",
       " {'n_layers': 3, 'n_units': 64, 'dropout': 0.1, 'lr': 0.005},\n",
       " {'n_layers': 3, 'n_units': 64, 'dropout': 0.25, 'lr': 0.00025},\n",
       " {'n_layers': 3, 'n_units': 64, 'dropout': 0.25, 'lr': 0.00075},\n",
       " {'n_layers': 3, 'n_units': 64, 'dropout': 0.25, 'lr': 0.001},\n",
       " {'n_layers': 3, 'n_units': 64, 'dropout': 0.25, 'lr': 0.005},\n",
       " {'n_layers': 3, 'n_units': 64, 'dropout': 0.35, 'lr': 0.00025},\n",
       " {'n_layers': 3, 'n_units': 64, 'dropout': 0.35, 'lr': 0.00075},\n",
       " {'n_layers': 3, 'n_units': 64, 'dropout': 0.35, 'lr': 0.001},\n",
       " {'n_layers': 3, 'n_units': 64, 'dropout': 0.35, 'lr': 0.005},\n",
       " {'n_layers': 3, 'n_units': 128, 'dropout': 0.1, 'lr': 0.00025},\n",
       " {'n_layers': 3, 'n_units': 128, 'dropout': 0.1, 'lr': 0.00075},\n",
       " {'n_layers': 3, 'n_units': 128, 'dropout': 0.1, 'lr': 0.001},\n",
       " {'n_layers': 3, 'n_units': 128, 'dropout': 0.1, 'lr': 0.005},\n",
       " {'n_layers': 3, 'n_units': 128, 'dropout': 0.25, 'lr': 0.00025},\n",
       " {'n_layers': 3, 'n_units': 128, 'dropout': 0.25, 'lr': 0.00075},\n",
       " {'n_layers': 3, 'n_units': 128, 'dropout': 0.25, 'lr': 0.001},\n",
       " {'n_layers': 3, 'n_units': 128, 'dropout': 0.25, 'lr': 0.005},\n",
       " {'n_layers': 3, 'n_units': 128, 'dropout': 0.35, 'lr': 0.00025},\n",
       " {'n_layers': 3, 'n_units': 128, 'dropout': 0.35, 'lr': 0.00075},\n",
       " {'n_layers': 3, 'n_units': 128, 'dropout': 0.35, 'lr': 0.001},\n",
       " {'n_layers': 3, 'n_units': 128, 'dropout': 0.35, 'lr': 0.005},\n",
       " {'n_layers': 3, 'n_units': 256, 'dropout': 0.1, 'lr': 0.00025},\n",
       " {'n_layers': 3, 'n_units': 256, 'dropout': 0.1, 'lr': 0.00075},\n",
       " {'n_layers': 3, 'n_units': 256, 'dropout': 0.1, 'lr': 0.001},\n",
       " {'n_layers': 3, 'n_units': 256, 'dropout': 0.1, 'lr': 0.005},\n",
       " {'n_layers': 3, 'n_units': 256, 'dropout': 0.25, 'lr': 0.00025},\n",
       " {'n_layers': 3, 'n_units': 256, 'dropout': 0.25, 'lr': 0.00075},\n",
       " {'n_layers': 3, 'n_units': 256, 'dropout': 0.25, 'lr': 0.001},\n",
       " {'n_layers': 3, 'n_units': 256, 'dropout': 0.25, 'lr': 0.005},\n",
       " {'n_layers': 3, 'n_units': 256, 'dropout': 0.35, 'lr': 0.00025},\n",
       " {'n_layers': 3, 'n_units': 256, 'dropout': 0.35, 'lr': 0.00075},\n",
       " {'n_layers': 3, 'n_units': 256, 'dropout': 0.35, 'lr': 0.001},\n",
       " {'n_layers': 3, 'n_units': 256, 'dropout': 0.35, 'lr': 0.005},\n",
       " {'n_layers': 4, 'n_units': 64, 'dropout': 0.1, 'lr': 0.00025},\n",
       " {'n_layers': 4, 'n_units': 64, 'dropout': 0.1, 'lr': 0.00075},\n",
       " {'n_layers': 4, 'n_units': 64, 'dropout': 0.1, 'lr': 0.001},\n",
       " {'n_layers': 4, 'n_units': 64, 'dropout': 0.1, 'lr': 0.005},\n",
       " {'n_layers': 4, 'n_units': 64, 'dropout': 0.25, 'lr': 0.00025},\n",
       " {'n_layers': 4, 'n_units': 64, 'dropout': 0.25, 'lr': 0.00075},\n",
       " {'n_layers': 4, 'n_units': 64, 'dropout': 0.25, 'lr': 0.001},\n",
       " {'n_layers': 4, 'n_units': 64, 'dropout': 0.25, 'lr': 0.005},\n",
       " {'n_layers': 4, 'n_units': 64, 'dropout': 0.35, 'lr': 0.00025},\n",
       " {'n_layers': 4, 'n_units': 64, 'dropout': 0.35, 'lr': 0.00075},\n",
       " {'n_layers': 4, 'n_units': 64, 'dropout': 0.35, 'lr': 0.001},\n",
       " {'n_layers': 4, 'n_units': 64, 'dropout': 0.35, 'lr': 0.005},\n",
       " {'n_layers': 4, 'n_units': 128, 'dropout': 0.1, 'lr': 0.00025},\n",
       " {'n_layers': 4, 'n_units': 128, 'dropout': 0.1, 'lr': 0.00075},\n",
       " {'n_layers': 4, 'n_units': 128, 'dropout': 0.1, 'lr': 0.001},\n",
       " {'n_layers': 4, 'n_units': 128, 'dropout': 0.1, 'lr': 0.005},\n",
       " {'n_layers': 4, 'n_units': 128, 'dropout': 0.25, 'lr': 0.00025},\n",
       " {'n_layers': 4, 'n_units': 128, 'dropout': 0.25, 'lr': 0.00075},\n",
       " {'n_layers': 4, 'n_units': 128, 'dropout': 0.25, 'lr': 0.001},\n",
       " {'n_layers': 4, 'n_units': 128, 'dropout': 0.25, 'lr': 0.005},\n",
       " {'n_layers': 4, 'n_units': 128, 'dropout': 0.35, 'lr': 0.00025},\n",
       " {'n_layers': 4, 'n_units': 128, 'dropout': 0.35, 'lr': 0.00075},\n",
       " {'n_layers': 4, 'n_units': 128, 'dropout': 0.35, 'lr': 0.001},\n",
       " {'n_layers': 4, 'n_units': 128, 'dropout': 0.35, 'lr': 0.005},\n",
       " {'n_layers': 4, 'n_units': 256, 'dropout': 0.1, 'lr': 0.00025},\n",
       " {'n_layers': 4, 'n_units': 256, 'dropout': 0.1, 'lr': 0.00075},\n",
       " {'n_layers': 4, 'n_units': 256, 'dropout': 0.1, 'lr': 0.001},\n",
       " {'n_layers': 4, 'n_units': 256, 'dropout': 0.1, 'lr': 0.005},\n",
       " {'n_layers': 4, 'n_units': 256, 'dropout': 0.25, 'lr': 0.00025},\n",
       " {'n_layers': 4, 'n_units': 256, 'dropout': 0.25, 'lr': 0.00075},\n",
       " {'n_layers': 4, 'n_units': 256, 'dropout': 0.25, 'lr': 0.001},\n",
       " {'n_layers': 4, 'n_units': 256, 'dropout': 0.25, 'lr': 0.005},\n",
       " {'n_layers': 4, 'n_units': 256, 'dropout': 0.35, 'lr': 0.00025},\n",
       " {'n_layers': 4, 'n_units': 256, 'dropout': 0.35, 'lr': 0.00075},\n",
       " {'n_layers': 4, 'n_units': 256, 'dropout': 0.35, 'lr': 0.001},\n",
       " {'n_layers': 4, 'n_units': 256, 'dropout': 0.35, 'lr': 0.005}]"
      ]
     },
     "execution_count": 122,
     "metadata": {},
     "output_type": "execute_result"
    }
   ],
   "source": [
    "[{key: value[j] for j, key in enumerate(gridspace)} for i, value in enumerate(combinations)]"
   ]
  },
  {
   "cell_type": "code",
   "execution_count": 146,
   "id": "fd9a9201-b9ea-4a42-88e1-4be200faa69a",
   "metadata": {},
   "outputs": [],
   "source": [
    "def generate_combinations(gridspace):\n",
    "    x = [gridspace[cname] for cname in gridspace]\n",
    "    combinations = list(itertools.product(*x))\n",
    "    return [{key: value[j] for j, key in enumerate(gridspace)} for i, value in enumerate(combinations)]"
   ]
  },
  {
   "cell_type": "code",
   "execution_count": 145,
   "id": "f79c8c6f-1327-4dfd-b2c6-551d29907570",
   "metadata": {},
   "outputs": [
    {
     "data": {
      "text/plain": [
       "[(3, 5, 6), (3, 6, 5), (5, 3, 6), (5, 6, 3), (6, 3, 5), (6, 5, 3)]"
      ]
     },
     "execution_count": 145,
     "metadata": {},
     "output_type": "execute_result"
    }
   ],
   "source": [
    "# permutations\n",
    "list(itertools.permutations([3, 5, 6]))"
   ]
  },
  {
   "cell_type": "markdown",
   "id": "c6ea17a2-5f12-481a-8a58-712869e2e6f3",
   "metadata": {},
   "source": [
    "#### Accessing a Dict Element"
   ]
  },
  {
   "cell_type": "code",
   "execution_count": 160,
   "id": "10db62ac-75ad-4446-a14b-b923352a3102",
   "metadata": {},
   "outputs": [
    {
     "data": {
      "text/plain": [
       "{'n_layers': 2, 'n_units': 64, 'dropout': 0.1, 'lr': 0.00025}"
      ]
     },
     "execution_count": 160,
     "metadata": {},
     "output_type": "execute_result"
    }
   ],
   "source": [
    "grid = generate_combinations(gridspace)\n",
    "config1 = grid[0]\n",
    "# config1['weight_decay'] = 0.0099\n",
    "config1"
   ]
  },
  {
   "cell_type": "code",
   "execution_count": 159,
   "id": "9bda53ad-3074-4b57-a998-37eba31b5ee9",
   "metadata": {},
   "outputs": [
    {
     "name": "stdout",
     "output_type": "stream",
     "text": [
      "weight_decay=0.001, weight_decay2=0.001, weight_decay3=0.001\n"
     ]
    }
   ],
   "source": [
    "#\n",
    "if 'weight_decay' in config1:\n",
    "    weight_decay = config1['weight_decay']\n",
    "else:\n",
    "    weight_decay = 0.001\n",
    "    \n",
    "try:\n",
    "    weight_decay2 = config1['weight_decay']\n",
    "except KeyError as e:\n",
    "    weight_decay2 = 0.001\n",
    "\n",
    "weight_decay3 = config1.get('weight_decay', 0.001)\n",
    "\n",
    "print(f'{weight_decay=}, {weight_decay2=}, {weight_decay3=}')"
   ]
  },
  {
   "cell_type": "markdown",
   "id": "296a8064-e80b-4aec-b379-d2da74e17c41",
   "metadata": {},
   "source": [
    "#### Walrus Operator (or assignment expression operator)\n",
    "\n",
    "Python 3.8 and later\n",
    "\n",
    "- assigns and returns the value on the right side of the operator"
   ]
  },
  {
   "cell_type": "code",
   "execution_count": 168,
   "id": "29cda8f7-ed32-48eb-8761-300153fe918f",
   "metadata": {},
   "outputs": [],
   "source": [
    "a = 5"
   ]
  },
  {
   "cell_type": "code",
   "execution_count": 169,
   "id": "2a281b95-ae9c-49be-a2e6-d47978a65280",
   "metadata": {},
   "outputs": [
    {
     "data": {
      "text/plain": [
       "10"
      ]
     },
     "execution_count": 169,
     "metadata": {},
     "output_type": "execute_result"
    }
   ],
   "source": [
    "(b := 10)"
   ]
  },
  {
   "cell_type": "code",
   "execution_count": 170,
   "id": "270c835d-be96-410f-85ba-bc49dba467e8",
   "metadata": {},
   "outputs": [
    {
     "name": "stdout",
     "output_type": "stream",
     "text": [
      "5\n",
      "10\n"
     ]
    }
   ],
   "source": [
    "print(a)\n",
    "print(b)"
   ]
  },
  {
   "cell_type": "code",
   "execution_count": 140,
   "id": "55ee2529-373a-455c-8b25-6661f32f8e8f",
   "metadata": {},
   "outputs": [
    {
     "data": {
      "text/plain": [
       "81"
      ]
     },
     "execution_count": 140,
     "metadata": {},
     "output_type": "execute_result"
    }
   ],
   "source": [
    "power(walrus := 3, 4)"
   ]
  },
  {
   "cell_type": "code",
   "execution_count": 141,
   "id": "f0bc4da7-7e28-4071-adc9-1b8b908043f7",
   "metadata": {},
   "outputs": [
    {
     "data": {
      "text/plain": [
       "3"
      ]
     },
     "execution_count": 141,
     "metadata": {},
     "output_type": "execute_result"
    }
   ],
   "source": [
    "walrus"
   ]
  },
  {
   "cell_type": "code",
   "execution_count": null,
   "id": "eb777346-b2e4-442e-991d-1aef7ed5d520",
   "metadata": {},
   "outputs": [],
   "source": []
  }
 ],
 "metadata": {
  "kernelspec": {
   "display_name": "Python 3 (ipykernel)",
   "language": "python",
   "name": "python3"
  },
  "language_info": {
   "codemirror_mode": {
    "name": "ipython",
    "version": 3
   },
   "file_extension": ".py",
   "mimetype": "text/x-python",
   "name": "python",
   "nbconvert_exporter": "python",
   "pygments_lexer": "ipython3",
   "version": "3.9.5"
  }
 },
 "nbformat": 4,
 "nbformat_minor": 5
}
